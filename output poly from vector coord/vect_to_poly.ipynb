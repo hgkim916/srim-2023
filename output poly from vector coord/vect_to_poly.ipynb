{
 "cells": [
  {
   "cell_type": "code",
   "execution_count": 102,
   "metadata": {},
   "outputs": [],
   "source": [
    "# SET-UP - only need to run once\n",
    "\n",
    "import numpy as np\n",
    "import math\n",
    "\n",
    "def unsigned_stirling_num_recc(n,k):        # computes the unsigned Stirling numbers of the first kind recursively, see wiki page below\n",
    "    if k == 0 and n == 0:\n",
    "        return 1\n",
    "    elif k == 0 or n == 0:\n",
    "        return 0\n",
    "    else:\n",
    "        return (n-1)*unsigned_stirling_num_recc(n-1,k) + unsigned_stirling_num_recc (n-1,k-1)\n",
    "\n",
    "\n",
    "def basis_poly(i,d):      # returns the polynomial d!*(x choose i) as a vector of the form [a_0, a_1, ..., a_{d-1}, a_d]\n",
    "    # Uses the expansion provided by the following wikipedia page: https://en.wikipedia.org/wiki/Stirling_numbers_of_the_first_kind\n",
    "    p = np.zeros(d+1)\n",
    "    for j in range(i+1):\n",
    "        p[j] = ((-1)**(i-j)*unsigned_stirling_num_recc(i,j)/math.factorial(i))*math.factorial(d)\n",
    "    return p\n",
    "\n",
    "def GCD(v):     # recursively calculates the GCD of all the elements of v\n",
    "    if len(v)==1:\n",
    "        return int(v[0])\n",
    "    else:\n",
    "        return int(math.gcd(int(v[0]),GCD(v[1:])))\n",
    "\n",
    "\n",
    "def print_poly(poly_v):         # prints the polynomial with coefficients given by poly_v into a \"nice\" format\n",
    "    d = len(poly_v)-1\n",
    "    \n",
    "    # poly_v = poly_v*math.factorial(d)  # multiply by d! so that the coeff are integers\n",
    "    gcd = GCD(poly_v)\n",
    "    poly_v = poly_v/gcd         # simplifies the polynomial\n",
    "    print(\"(\",end=\"\")\n",
    "    for i in range(d+1):        # prints term-by-term, in our nice format\n",
    "        if poly_v[i]:\n",
    "            if i==0:\n",
    "                print(int(poly_v[i]),end='') # prints out the constant term\n",
    "            elif i==1:\n",
    "                if poly_v[i] == 1:\n",
    "                    print(\"+x\",end='') # prints out the x term without the power and without the coeff, but with a plus sign if it is 1\n",
    "                elif poly_v[i] == -1:\n",
    "                    print(\"-x\",end='') # prints out the x term without the power and without the coeff, but with a minus sign if it is -1\n",
    "                else:\n",
    "                    print(('{:+}'.format(int(poly_v[i])))+\"x\",end='') # prints out the x term without the power\n",
    "            else:\n",
    "                if poly_v[i] == 1:\n",
    "                    print(\"+x^\"+str(i),end='') # prints out the x^i term without the coeff, but with a plus sign if it is 1\n",
    "                elif poly_v[i] == -1:\n",
    "                    print(\"-x^\"+str(i),end='') # prints out the x^i term without the coeff, but with a minus sign if it is -1\n",
    "                else:\n",
    "                    print(('{:+}'.format(int(poly_v[i])))+\"x^\"+str(i),end='') # prints out the x^i term\n",
    "    print(\")/\"+str(int(math.factorial(d)/gcd)))          # finish it by dividing by d!, so that the expression looks nicer\n",
    "\n",
    "def translate(v,min_val):          \n",
    "    # gives the coefficients of p(x-1)+min_val+1 in terms of x, being given the coefficients of p and the minimum integer value it takes on {0,...,d+e}\n",
    "    trans_v = np.zeros(len(v))\n",
    "    d = len(v)-1\n",
    "    for j in range(len(trans_v)):\n",
    "        for i in range(j,len(trans_v)):\n",
    "            trans_v[j]+=((-1)**(i-j))*v[i]*math.comb(i,j)       # the x^j term in a_i*(x-1)^j  (where p(x) = a_0 + ... + a_d*x^d)\n",
    "    trans_v[0]+=(1-min_val)*math.factorial(d)        # makes sure the min value achieved is precisely 1 by subtractinf the initial min and adding 1\n",
    "    return trans_v\n",
    "\n",
    "\n",
    "def poly(v,vals):               # outputs the polynomial given by the vector v\n",
    "                                # vals is the values taken by this poly on {0,...,d+e}, used in rescaling it\n",
    "    d = len(v)-1\n",
    "    poly_v = np.zeros(d+1)\n",
    "    for i in range(len(v)):\n",
    "        poly_v += v[i]*basis_poly(i,d)      # stores the polynomial coefficients in the form d!*[a_0, a_1, ..., a_{d-1}, a_d] \n",
    "                                            #       (the d! is to prevent rounding errors)\n",
    "\n",
    "    print(\"Untranslated polynomial is: \",end=\"\")\n",
    "    print_poly(poly_v)\n",
    "\n",
    "    min_val = min(vals)\n",
    "    compress_poly = translate(poly_v,min_val)       # translates the polynomial above to get the actual dynamically compressing polynomial\n",
    "    print(\"This translates to dynamically compressing polynomial: \",end=\"\")\n",
    "    print_poly(compress_poly)\n",
    "    print(\"          --------              \")\n"
   ]
  },
  {
   "cell_type": "code",
   "execution_count": 96,
   "metadata": {},
   "outputs": [
    {
     "name": "stdout",
     "output_type": "stream",
     "text": [
      "Untranslated polynomial is: (6-7x+x^2)/2\n",
      "This translates to dynamically compressing polynomial: (22-9x+x^2)/2\n",
      "          --------              \n"
     ]
    }
   ],
   "source": [
    "# d = 2:\n",
    "poly([3,-3,1],[3, 0, -2, -3, -3, -2, 0, 3])"
   ]
  },
  {
   "cell_type": "code",
   "execution_count": 98,
   "metadata": {},
   "outputs": [
    {
     "name": "stdout",
     "output_type": "stream",
     "text": [
      "Untranslated polynomial is: (-30+56x-15x^2+x^3)/6\n",
      "This translates to dynamically compressing polynomial: (-66+89x-18x^2+x^3)/6\n",
      "          --------              \n"
     ]
    }
   ],
   "source": [
    "# d = 3:\n",
    "poly([-5,7,-4,1],[-5, 2, 5, 5, 3, 0, -3, -5, -5, -2, 5])"
   ]
  },
  {
   "cell_type": "code",
   "execution_count": 99,
   "metadata": {},
   "outputs": [
    {
     "name": "stdout",
     "output_type": "stream",
     "text": [
      "Untranslated polynomial is: (-24-126x+95x^2-18x^3+x^4)/24\n",
      "This translates to dynamically compressing polynomial: (312-374x+155x^2-22x^3+x^4)/24\n",
      "          --------              \n",
      "Untranslated polynomial is: (120-234x+107x^2-18x^3+x^4)/24\n",
      "This translates to dynamically compressing polynomial: (552-506x+167x^2-22x^3+x^4)/24\n",
      "          --------              \n",
      "Untranslated polynomial is: (48-180x+101x^2-18x^3+x^4)/12\n",
      "This translates to dynamically compressing polynomial: (408-440x+161x^2-22x^3+x^4)/12\n",
      "          --------              \n"
     ]
    }
   ],
   "source": [
    "# d = 4:\n",
    "poly([-1,-2,4,-3,1],[-1, -3, -1, 2, 4, 4, 2, -1, -3, -1])\n",
    "poly([5,-6,5,-3,1],[5, -1, -2, -1, 0, 0, -1, -2, -1, 5])\n",
    "poly([4,-8,9,-6,2],[4, -4, -3, 1, 4, 4, 1, -3, -4, 4])"
   ]
  },
  {
   "cell_type": "code",
   "execution_count": 103,
   "metadata": {},
   "outputs": [
    {
     "name": "stdout",
     "output_type": "stream",
     "text": [
      "Untranslated polynomial is: (-480+2024x-1350x^2+315x^3-30x^4+x^5)/120\n",
      "This translates to dynamically compressing polynomial: (-3600+5794x-2485x^2+445x^3-35x^4+x^5)/120\n",
      "          --------              \n"
     ]
    }
   ],
   "source": [
    "# d = 5:\n",
    "poly([-4,8,-10,8,-4,1],[-4, 4, 2, -2, -4, -3, 0, 3, 4, 2, -2, -4, 4])"
   ]
  },
  {
   "cell_type": "code",
   "execution_count": 104,
   "metadata": {},
   "outputs": [
    {
     "name": "stdout",
     "output_type": "stream",
     "text": [
      "Untranslated polynomial is: (1440-10296x+10594x^2-3705x^3+565x^4-39x^5+x^6)/720\n",
      "This translates to dynamically compressing polynomial: (30960-45060x+25504x^2-6375x^3+775x^4-45x^5+x^6)/720\n",
      "          --------              \n"
     ]
    }
   ],
   "source": [
    "# d = 6:\n",
    "poly([2, -4, 8, -10, 8, -4, 1],[2, -2, 2, 4, 2, -2, -5, -5, -2, 2, 4, 2, -2, 2])"
   ]
  },
  {
   "cell_type": "code",
   "execution_count": 105,
   "metadata": {},
   "outputs": [
    {
     "name": "stdout",
     "output_type": "stream",
     "text": [
      "Untranslated polynomial is: (-5040+58344x-79576x^2+39004x^3-8575x^4+931x^5-49x^6+x^7)/5040\n",
      "This translates to dynamically compressing polynomial: (-151200+373764x-258104x^2+83629x^3-14000x^4+1246x^5-56x^6+x^7)/5040\n",
      "          --------              \n"
     ]
    }
   ],
   "source": [
    "# d =7:\n",
    "poly([-1, 2, -4, 8, -10, 8, -4, 1],[-1, 1, -1, 1, 5, 7, 5, 0, -5, -7, -5, -1, 1, -1, 1])"
   ]
  }
 ],
 "metadata": {
  "kernelspec": {
   "display_name": "Python 3",
   "language": "python",
   "name": "python3"
  },
  "language_info": {
   "codemirror_mode": {
    "name": "ipython",
    "version": 3
   },
   "file_extension": ".py",
   "mimetype": "text/x-python",
   "name": "python",
   "nbconvert_exporter": "python",
   "pygments_lexer": "ipython3",
   "version": "3.8.10"
  },
  "orig_nbformat": 4
 },
 "nbformat": 4,
 "nbformat_minor": 2
}
