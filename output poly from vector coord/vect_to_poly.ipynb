{
 "cells": [
  {
   "cell_type": "code",
   "execution_count": 7,
   "metadata": {},
   "outputs": [],
   "source": [
    "# SET-UP - only need to run once\n",
    "\n",
    "import numpy as np\n",
    "import math\n",
    "\n",
    "def unsigned_stirling_num_recc(n,k):        # computes the unsigned Stirling numbers of the first kind recursively, see wiki page below\n",
    "    if k == 0 and n == 0:\n",
    "        return 1\n",
    "    elif k == 0 or n == 0:\n",
    "        return 0\n",
    "    else:\n",
    "        return (n-1)*unsigned_stirling_num_recc(n-1,k) + unsigned_stirling_num_recc (n-1,k-1)\n",
    "\n",
    "\n",
    "def basis_poly(i,d):      # returns the polynomial (x choose i) as a vector of the form [a_0, a_1, ..., a_{d-1}, a_d]\n",
    "    # Uses the expansion provided by the following wikipedia page: https://en.wikipedia.org/wiki/Stirling_numbers_of_the_first_kind\n",
    "    p = np.zeros(d+1)\n",
    "    for j in range(i+1):\n",
    "        p[j] = (-1)**(i-j)*unsigned_stirling_num_recc(i,j)/math.factorial(i)\n",
    "    return p\n",
    "\n",
    "def output_poly(v):             # outputs the polynomial given by the vector v\n",
    "    d = len(v)-1\n",
    "    poly_v = np.zeros(d+1)\n",
    "    for i in range(len(v)):\n",
    "        poly_v += v[i]*basis_poly(i,d)      # stores the polynomial coefficients in the form [a_0, a_1, ..., a_{d-1}, a_d]\n",
    "\n",
    "    poly_v = poly_v*math.factorial(d)  # multiply by d! so that the coeff are integers\n",
    "    print(\"(\",end=\"\")\n",
    "    for i in range(d+1):\n",
    "        if poly_v[i]:\n",
    "            if i==0:\n",
    "                print(int(poly_v[i]),end='') # prints out the constant term\n",
    "            else:\n",
    "                if poly_v[i] == 1:\n",
    "                    print(\"+x^\"+str(i),end='') # prints out the x^i term without the coeff, but with a plus sign if it is 1\n",
    "                elif poly_v[i] == -1:\n",
    "                    print(\"-x^\"+str(i),end='') # prints out the x^i term without the coeff, but with a minus sign if it is -1\n",
    "                else:\n",
    "                    print(('{:+}'.format(int(poly_v[i])))+\"x^\"+str(i),end='') # prints out the x^i term\n",
    "    print(\")/\"+str(math.factorial(d)))          # finish it by dividing by d!, so that the expression looks nicer"
   ]
  },
  {
   "cell_type": "code",
   "execution_count": 8,
   "metadata": {},
   "outputs": [
    {
     "name": "stdout",
     "output_type": "stream",
     "text": [
      "(6-7x^1+x^2)/2\n"
     ]
    }
   ],
   "source": [
    "output_poly([3,-3,1])"
   ]
  }
 ],
 "metadata": {
  "kernelspec": {
   "display_name": "Python 3",
   "language": "python",
   "name": "python3"
  },
  "language_info": {
   "codemirror_mode": {
    "name": "ipython",
    "version": 3
   },
   "file_extension": ".py",
   "mimetype": "text/x-python",
   "name": "python",
   "nbconvert_exporter": "python",
   "pygments_lexer": "ipython3",
   "version": "3.8.10"
  },
  "orig_nbformat": 4
 },
 "nbformat": 4,
 "nbformat_minor": 2
}
